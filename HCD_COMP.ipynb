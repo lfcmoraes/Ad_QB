{
 "cells": [
  {
   "cell_type": "code",
   "execution_count": 1,
   "metadata": {},
   "outputs": [],
   "source": [
    "import numpy as np\n",
    "import sympy as sp\n",
    "import pickle\n",
    "\n",
    "from concurrent.futures import ProcessPoolExecutor, as_completed\n",
    "from scipy.integrate import trapz,cumulative_trapezoid,quad\n",
    "\n",
    "import os, time\n",
    "from datetime import datetime\n",
    "\n",
    "from qutip import *\n",
    "import matplotlib.pyplot as plt\n",
    "from sympy.physics.quantum import TensorProduct as ts\n",
    "from sympy.physics.quantum.dagger import Dagger\n",
    "from sympy.physics.matrices import msigma\n",
    "\n",
    "from sympy import lambdify"
   ]
  },
  {
   "cell_type": "code",
   "execution_count": 2,
   "metadata": {},
   "outputs": [],
   "source": [
    "def HCD(TT):\n",
    "    sI,sx,sy,sz = sp.eye(2),msigma(1),msigma(2),msigma(3)\n",
    "    \n",
    "    t = sp.symbols(r't', real=True, positive=True)\n",
    "    f = sp.Function('f')(t)\n",
    "    g = sp.Function('g')(t)\n",
    "\n",
    "    f, g = t/TT, t/TT\n",
    "\n",
    "    sHi = (ts(sx,sx,sI)+ts(sy,sy,sI))\n",
    "    sHm = (ts(sI,sx,sx)+ts(sI,sy,sy))\n",
    "    sHf = (ts(sz,sI,sz) + ts(sI,sz,sz))\n",
    "\n",
    "    sHad = (1-f)*sHi + f*(1-f)*sHm + g*sHf\n",
    "    \n",
    "    m = sHad.eigenvects(chop=True)\n",
    "    \n",
    "    e = [m[i//2][0] for i in range(len(m)*2)]\n",
    "    ev_ = [[tup[2][0], tup[2][1]] for tup in m]\n",
    "    ev = [val for sublist in ev_ for val in sublist]\n",
    "    evN = [vec/sp.sqrt((Dagger(vec)*vec)[0]) for vec in ev] \n",
    "\n",
    "    sHcd = sum([1j*sp.diff(vec,t)*Dagger(vec) for vec in evN],sp.zeros(8,8))\n",
    "    \n",
    "    return sHcd\n",
    "\n",
    "def calc_HCD_COMP(TT,ij):\n",
    "\n",
    "    t0 = datetime.now()\n",
    "\n",
    "    t = sp.symbols(r't', real=True, positive=True)\n",
    "\n",
    "    H = HCD(TT)\n",
    "            \n",
    "\n",
    "    x = H[ij[0],ij[1]].evalf()\n",
    "\n",
    "    lam_x = sp.lambdify(t, x, modules=['mpmath'])\n",
    "\n",
    "\n",
    "    x_vals = np.linspace(0.0001, .99*TT, 10000, dtype=complex)\n",
    "\n",
    "    y_vals = []\n",
    "    for _x in x_vals:\n",
    "        y_vals.append(complex(lam_x(_x)))\n",
    "    \n",
    "    \n",
    "    path = r'data/HCD_components/' +str(TT) + '/'\n",
    "    if not os.path.exists(path):\n",
    "        os.makedirs(path)\n",
    "\n",
    "    with open(path + str(ij[0]) + str(ij[1]), 'wb') as fp:\n",
    "        pickle.dump([y_vals, TT, ij], fp) \n",
    "\n",
    "    tf = datetime.now()\n",
    "    \n",
    "    print(TT, ij[0], ij[1] , 'start = ',t0.strftime(\"%d %H:%M:%S\"), 'stop ='  ,tf.strftime(\"%d %H:%M:%S\"))\n",
    "\n",
    "    return [y_vals, TT, ij]"
   ]
  },
  {
   "cell_type": "code",
   "execution_count": 8,
   "metadata": {},
   "outputs": [],
   "source": [
    "H = HCD(1)\n",
    "nonZero_index_Hcd = (np.transpose(np.nonzero(H))).tolist()\n",
    "for i in nonZero_index_Hcd:\n",
    "    if i[0] == i[1]:\n",
    "        nonZero_index_Hcd.remove(i)"
   ]
  },
  {
   "cell_type": "code",
   "execution_count": 7,
   "metadata": {},
   "outputs": [
    {
     "data": {
      "text/plain": [
       "1.0"
      ]
     },
     "execution_count": 7,
     "metadata": {},
     "output_type": "execute_result"
    }
   ],
   "source": [
    "tau_list = [10**(-3+8*i*.005) for i in range(25,175)] #[0.01,...,9120] evolution time\n",
    "tau_list[50]"
   ]
  },
  {
   "cell_type": "code",
   "execution_count": 21,
   "metadata": {},
   "outputs": [],
   "source": [
    "arg_list = [(t,i) for t in tau_list for i in nonZero_index_Hcd]"
   ]
  },
  {
   "cell_type": "code",
   "execution_count": null,
   "metadata": {},
   "outputs": [],
   "source": [
    "# Pegando o numero máximo de núcleos\n",
    "max_cpu = os.cpu_count()\n",
    "with ProcessPoolExecutor(max_workers=max_cpu) as executor:\n",
    "\n",
    "    # Executando as funções e salvando as saídas\n",
    "    futures = [executor.submit(calc_HCD_COMP, arg[0],arg[1]) for arg in arg_list]\n",
    "\n",
    "      # Trecho útil pra ver quantas funções já foram executadas, mas pode apagar.\n",
    "    r = 0\n",
    "    for _ in as_completed(futures):\n",
    "        r+=1\n",
    "        if r%max_cpu==0:\n",
    "            print(f'About {len(executor._pending_work_items)} tasks remain')\n",
    "    print(\"\")\n",
    "            "
   ]
  },
  {
   "cell_type": "code",
   "execution_count": null,
   "metadata": {},
   "outputs": [],
   "source": []
  }
 ],
 "metadata": {
  "kernelspec": {
   "display_name": "base",
   "language": "python",
   "name": "python3"
  },
  "language_info": {
   "codemirror_mode": {
    "name": "ipython",
    "version": 3
   },
   "file_extension": ".py",
   "mimetype": "text/x-python",
   "name": "python",
   "nbconvert_exporter": "python",
   "pygments_lexer": "ipython3",
   "version": "3.10.9"
  },
  "orig_nbformat": 4
 },
 "nbformat": 4,
 "nbformat_minor": 2
}

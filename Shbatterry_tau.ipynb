{
 "cells": [
  {
   "attachments": {},
   "cell_type": "markdown",
   "metadata": {},
   "source": [
    "---\n",
    "---\n",
    "# Solving TQD for a specific time of evolutiom $\\tau$\n",
    "---\n",
    "---"
   ]
  },
  {
   "cell_type": "code",
   "execution_count": 1,
   "metadata": {},
   "outputs": [],
   "source": [
    "import numpy as np\n",
    "import sympy as sp\n",
    "import matplotlib.pyplot as plt\n",
    "from sympy.physics.quantum import TensorProduct as ts\n",
    "from sympy.physics.quantum.dagger import Dagger\n",
    "from sympy.physics.matrices import msigma\n",
    "from sympy.plotting import plot\n",
    "from sympy import lambdify\n",
    "\n",
    "import pickle\n",
    "from qutip import *"
   ]
  },
  {
   "attachments": {},
   "cell_type": "markdown",
   "metadata": {},
   "source": [
    "---\n",
    "## $\\tau = 100$\n",
    "---"
   ]
  },
  {
   "attachments": {},
   "cell_type": "markdown",
   "metadata": {},
   "source": [
    "### Functions"
   ]
  },
  {
   "cell_type": "code",
   "execution_count": 2,
   "metadata": {},
   "outputs": [],
   "source": [
    "# -------------- f(t) = t/T ; g(t) = f(t) --------------------------------\n",
    "def Hi_coef_lin(t,args):\n",
    "    T = args['T']\n",
    "    return (1 - t/T)\n",
    "def Hm_coef_lin(t,args):\n",
    "    T = args['T']\n",
    "    return (1-t/T)*t/T\n",
    "def Hf_coef_lin(t,args):\n",
    "    T = args['T']\n",
    "    return t/T\n",
    "\n",
    "# ------ f(t)= (t/T)^(1/3) = s ; g(t) = t/T --------------------------------\n",
    "def Hi_coef_cbrt(t,args):\n",
    "    T = args['T']\n",
    "    return (1 - np.cbrt(t/T))\n",
    "def Hm_coef_cbrt(t,args):\n",
    "    T = args['T']\n",
    "    return (1-np.cbrt(t/T))*np.cbrt(t/T)\n",
    "def Hf_coef_cbrt(t,args):\n",
    "    T = args['T']\n",
    "    return t/T\n",
    "\n",
    "# ------ f(t) = sin(πt/2T) ; g(t) = sin(πt/2T) ------------------\n",
    "def Hi_coef_sin(t,args):\n",
    "    T = args['T']\n",
    "    π = np.pi\n",
    "    return (1 - np.sin(π*(t/T)/2))\n",
    "def Hm_coef_sin(t,args):\n",
    "    T = args['T']\n",
    "    π = np.pi\n",
    "    return (1 - np.sin(π*(t/T)/2))*np.sin(π*(t/T)/2)\n",
    "def Hf_coef_sin(t,args):\n",
    "    T = args['T']\n",
    "    π = np.pi\n",
    "    return np.sin(π*(t/T)/2)"
   ]
  },
  {
   "attachments": {},
   "cell_type": "markdown",
   "metadata": {},
   "source": [
    "---\n",
    "### $H_{ad}$"
   ]
  },
  {
   "cell_type": "code",
   "execution_count": 3,
   "metadata": {},
   "outputs": [],
   "source": [
    "qI, qx, qy, qz = qeye(2) ,sigmax(), sigmay(), sigmaz()"
   ]
  },
  {
   "cell_type": "code",
   "execution_count": 4,
   "metadata": {},
   "outputs": [],
   "source": [
    "qHi = tensor(qx,qx,qI) + tensor(qy,qy,qI)\n",
    "qHm = tensor(qI,qx,qx) + tensor(qI,qy,qy)\n",
    "qHf = tensor(qz,qI,qz) + tensor(qI,qz,qz)"
   ]
  },
  {
   "cell_type": "code",
   "execution_count": 5,
   "metadata": {},
   "outputs": [],
   "source": [
    "qHad_lin = [[qHi, Hi_coef_lin], [qHm, Hm_coef_lin], [qHf, Hf_coef_lin]]\n",
    "qHad_cbrt = [[qHi, Hi_coef_cbrt], [qHm, Hm_coef_cbrt], [qHf, Hf_coef_cbrt]]\n",
    "qHad_sin = [[qHi, Hi_coef_sin], [qHm, Hm_coef_sin], [qHf, Hf_coef_sin]]"
   ]
  },
  {
   "attachments": {},
   "cell_type": "markdown",
   "metadata": {},
   "source": [
    "---"
   ]
  },
  {
   "cell_type": "code",
   "execution_count": 6,
   "metadata": {},
   "outputs": [
    {
     "data": {
      "text/plain": [
       "100.0"
      ]
     },
     "execution_count": 6,
     "metadata": {},
     "output_type": "execute_result"
    }
   ],
   "source": [
    "tau_list = [10**(-3+8*i*.005) for i in list(np.arange(25,175))] #[0.01,...,9120] evolution time\n",
    "TT = tau_list[100]\n",
    "t_list = np.linspace(0,10*TT,100000)\n",
    "w = t_list.shape[0]-1 # last t index in t_list\n",
    "\n",
    "TT"
   ]
  },
  {
   "attachments": {},
   "cell_type": "markdown",
   "metadata": {},
   "source": [
    "---\n",
    "### Initial Conditions"
   ]
  },
  {
   "cell_type": "code",
   "execution_count": 7,
   "metadata": {},
   "outputs": [],
   "source": [
    "psi0 = tensor(bell_state('11'),ket('1'))\n",
    "rho0 = ket2dm(psi0)"
   ]
  },
  {
   "attachments": {},
   "cell_type": "markdown",
   "metadata": {},
   "source": [
    "---\n",
    "### Evolution"
   ]
  },
  {
   "cell_type": "code",
   "execution_count": 8,
   "metadata": {},
   "outputs": [
    {
     "name": "stdout",
     "output_type": "stream",
     "text": [
      "Options:\n",
      "-----------\n",
      "atol:              1e-08\n",
      "rtol:              1e-06\n",
      "method:            adams\n",
      "order:             12\n",
      "nsteps:            1000\n",
      "first_step:        0\n",
      "min_step:          0\n",
      "max_step:          0\n",
      "tidy:              True\n",
      "num_cpus:          4\n",
      "norm_tol:          0.001\n",
      "norm_steps:        5\n",
      "rhs_filename:      None\n",
      "rhs_reuse:         False\n",
      "seeds:             0\n",
      "rhs_with_state:    False\n",
      "average_expect:    True\n",
      "average_states:    False\n",
      "ntraj:             500\n",
      "store_states:      False\n",
      "store_final_state: False\n",
      "\n"
     ]
    }
   ],
   "source": [
    "options = Options()\n",
    "# options.nsteps = 100000\n",
    "# options.atol = 1e-12\n",
    "# options.rtol= 1e-12\n",
    "print(options)\n"
   ]
  },
  {
   "cell_type": "code",
   "execution_count": 9,
   "metadata": {},
   "outputs": [],
   "source": [
    "qH = [qHad_lin, qHad_cbrt, qHad_sin]\n",
    "Erg_func = []\n",
    "for H in qH:\n",
    "    result = mesolve(H,rho0,t_list, args={'T': TT})\n",
    "    rho_t = result.states\n",
    "    erg_t = []\n",
    "    for _t in range(len(t_list)):\n",
    "    #----spectral decomposition of H0------------------------------------\n",
    "        ϵ, ϵ_v = qz.eigenstates(sort='low')\n",
    "    #----spectral decomposition of rho(t)----------------------------------\n",
    "        rhored = rho_t[_t].ptrace(2)\n",
    "        r, r_v = rhored.eigenstates(sort='high')\n",
    "    #----calculating ergotropy-------------------------------------------\n",
    "        vr_ve = np.array([[((r_v[0].dag()*ϵ_v[0]).norm())**2, ((r_v[1].dag()*ϵ_v[0]).norm())**2],\n",
    "                            [((r_v[0].dag()*ϵ_v[1]).norm())**2, ((r_v[1].dag()*ϵ_v[1]).norm())**2]])\n",
    "        erg_t.append(\n",
    "            np.sum(np.outer(r,ϵ)*(vr_ve- np.identity(2))/2)\n",
    "                    )\n",
    "    Erg_func.append(erg_t)"
   ]
  },
  {
   "attachments": {},
   "cell_type": "markdown",
   "metadata": {},
   "source": [
    "---\n",
    "### Saving Erg"
   ]
  },
  {
   "cell_type": "code",
   "execution_count": 232,
   "metadata": {},
   "outputs": [],
   "source": [
    "with open((\"data/Erg/TT\" + str(TT)+'_len'+str(len(t_list))+'_'+str(t_list[-1])+'_Ergs_adb.data'), \"wb\") as fp:   #Pickling\n",
    "    pickle.dump(Erg_func, fp)"
   ]
  },
  {
   "attachments": {},
   "cell_type": "markdown",
   "metadata": {},
   "source": [
    "---\n",
    "### Loading Erg"
   ]
  },
  {
   "cell_type": "code",
   "execution_count": 10,
   "metadata": {},
   "outputs": [],
   "source": [
    "# Erg_func = []\n",
    "with open (\"data/Erg/TT\" + str(TT)+'_len'+str(len(t_list))+'_'+str(t_list[-1])+'_Ergs_adb.data', 'rb') as fp:\n",
    "    Erg_func = pickle.load(fp)"
   ]
  },
  {
   "attachments": {},
   "cell_type": "markdown",
   "metadata": {},
   "source": [
    "---\n",
    "### Plotting Erg"
   ]
  },
  {
   "cell_type": "code",
   "execution_count": 11,
   "metadata": {},
   "outputs": [
    {
     "data": {
      "image/png": "[encoded data removed]",
      "text/plain": [
       "<Figure size 640x480 with 1 Axes>"
      ]
     },
     "metadata": {},
     "output_type": "display_data"
    }
   ],
   "source": [
    "for _y in Erg_func:\n",
    "    plt.plot(t_list,_y)\n",
    "plt.show()"
   ]
  },
  {
   "attachments": {},
   "cell_type": "markdown",
   "metadata": {},
   "source": [
    "---\n",
    "---\n",
    "## TQD \n",
    "---\n",
    "---\n",
    "\n",
    "### Symbolic $H_{ad}$"
   ]
  },
  {
   "cell_type": "code",
   "execution_count": 13,
   "metadata": {},
   "outputs": [],
   "source": [
    "sI,sx,sy,sz = sp.eye(2),msigma(1),msigma(2),msigma(3)\n",
    "t = sp.symbols(r't', real=True, positive=True)\n",
    "f = sp.Function('f')(t)\n",
    "g = sp.Function('g')(t)"
   ]
  },
  {
   "cell_type": "code",
   "execution_count": 20,
   "metadata": {},
   "outputs": [],
   "source": [
    "f, g = t/TT, t/TT\n",
    "hbar, Omg = 1, 1"
   ]
  },
  {
   "cell_type": "code",
   "execution_count": 21,
   "metadata": {},
   "outputs": [
    {
     "data": {
      "text/latex": [
       "$\\displaystyle \\left[\\begin{matrix}0.02 t & 0 & 0 & 0 & 0 & 0 & 0 & 0\\\\0 & - 0.02 t & 0.02 t \\left(1 - 0.01 t\\right) & 0 & 0 & 0 & 0 & 0\\\\0 & 0.02 t \\left(1 - 0.01 t\\right) & 0 & 0 & 2 - 0.02 t & 0 & 0 & 0\\\\0 & 0 & 0 & 0 & 0 & 2 - 0.02 t & 0 & 0\\\\0 & 0 & 2 - 0.02 t & 0 & 0 & 0 & 0 & 0\\\\0 & 0 & 0 & 2 - 0.02 t & 0 & 0 & 0.02 t \\left(1 - 0.01 t\\right) & 0\\\\0 & 0 & 0 & 0 & 0 & 0.02 t \\left(1 - 0.01 t\\right) & - 0.02 t & 0\\\\0 & 0 & 0 & 0 & 0 & 0 & 0 & 0.02 t\\end{matrix}\\right]$"
      ],
      "text/plain": [
       "Matrix([\n",
       "[0.02*t,                   0,                   0,          0,          0,                   0,                   0,      0],\n",
       "[     0,             -0.02*t, 0.02*t*(1 - 0.01*t),          0,          0,                   0,                   0,      0],\n",
       "[     0, 0.02*t*(1 - 0.01*t),                   0,          0, 2 - 0.02*t,                   0,                   0,      0],\n",
       "[     0,                   0,                   0,          0,          0,          2 - 0.02*t,                   0,      0],\n",
       "[     0,                   0,          2 - 0.02*t,          0,          0,                   0,                   0,      0],\n",
       "[     0,                   0,                   0, 2 - 0.02*t,          0,                   0, 0.02*t*(1 - 0.01*t),      0],\n",
       "[     0,                   0,                   0,          0,          0, 0.02*t*(1 - 0.01*t),             -0.02*t,      0],\n",
       "[     0,                   0,                   0,          0,          0,                   0,                   0, 0.02*t]])"
      ]
     },
     "execution_count": 21,
     "metadata": {},
     "output_type": "execute_result"
    }
   ],
   "source": [
    "sHi = (ts(sx,sx,sI)+ts(sy,sy,sI))*hbar*Omg\n",
    "sHm = (ts(sI,sx,sx)+ts(sI,sy,sy))*hbar*Omg\n",
    "sHf = (ts(sz,sI,sz) + ts(sI,sz,sz))*hbar*Omg\n",
    "\n",
    "sHad = (1-f)*sHi + f*(1-f)*sHm + g*sHf\n",
    "sHad"
   ]
  },
  {
   "attachments": {},
   "cell_type": "markdown",
   "metadata": {},
   "source": [
    "---\n",
    "#### Eigenvectors of $H_{ad}$\n",
    "---"
   ]
  },
  {
   "cell_type": "code",
   "execution_count": 22,
   "metadata": {},
   "outputs": [],
   "source": [
    "m = sHad.eigenvects(chop=True)\n",
    "# m = list(sHad.eigenvals())"
   ]
  },
  {
   "cell_type": "code",
   "execution_count": 23,
   "metadata": {},
   "outputs": [],
   "source": [
    "e = [m[i//2][0] for i in range(len(m)*2)]\n",
    "ev_ = [[tup[2][0], tup[2][1]] for tup in m]\n",
    "ev = [val for sublist in ev_ for val in sublist]\n",
    "evN = [vec/sp.sqrt((Dagger(vec)*vec)[0]) for vec in ev] "
   ]
  },
  {
   "attachments": {},
   "cell_type": "markdown",
   "metadata": {},
   "source": [
    "---\n",
    "### $H_{CD}$"
   ]
  },
  {
   "cell_type": "code",
   "execution_count": 24,
   "metadata": {},
   "outputs": [],
   "source": [
    "Hcd = sum([sp.diff(vec,t)*Dagger(vec) for vec in evN],sp.zeros(8,8))"
   ]
  },
  {
   "cell_type": "code",
   "execution_count": 25,
   "metadata": {},
   "outputs": [
    {
     "name": "stdout",
     "output_type": "stream",
     "text": [
      "[[1, 2], [1, 4], [2, 1], [2, 4], [3, 5], [3, 6], [4, 1], [4, 2], [5, 3], [5, 6], [6, 3], [6, 5]]\n"
     ]
    }
   ],
   "source": [
    "nonZero_index_Hcd = (np.transpose(np.nonzero(Hcd))).tolist()\n",
    "for i in nonZero_index_Hcd:\n",
    "    if i[0] == i[1]:\n",
    "        nonZero_index_Hcd.remove(i)\n",
    "print(nonZero_index_Hcd)"
   ]
  },
  {
   "cell_type": "code",
   "execution_count": 28,
   "metadata": {},
   "outputs": [
    {
     "name": "stdout",
     "output_type": "stream",
     "text": [
      "1 2 H12\n",
      "1 4 H14\n"
     ]
    },
    {
     "name": "stderr",
     "output_type": "stream",
     "text": [
      "\n",
      "KeyboardInterrupt\n",
      "\n"
     ]
    }
   ],
   "source": [
    "Hcd_dic = { f\"H{lst[0]}{lst[1]}\": [] for lst in nonZero_index_Hcd}\n",
    "for i, j in zip(nonZero_index_Hcd, Hcd_dic):\n",
    "    print(i[0],i[1],j)\n",
    "    x = Hcd[int(i[0]),int(i[1])].evalf()\n",
    "    \n",
    "    lam_x = sp.lambdify(t, x, modules=['mpmath'])\n",
    "\n",
    "    x_vals = np.linspace(0.01, 10*.99*TT, 100000, dtype=complex) #-------------(CAHNGE TOTAL TIME OF EVOLUTION!!!!)------------------\n",
    "\n",
    "    y_vals = []\n",
    "    for _x in x_vals:\n",
    "        y_vals.append(complex(lam_x(_x)))\n",
    "    \n",
    "    \n",
    "    Hcd_dic[j].append(np.round(y_vals, decimals=5))"
   ]
  },
  {
   "attachments": {},
   "cell_type": "markdown",
   "metadata": {},
   "source": [
    "---\n",
    "### Writting $H_{CD}$ components"
   ]
  },
  {
   "cell_type": "code",
   "execution_count": null,
   "metadata": {},
   "outputs": [],
   "source": [
    "for H in Hcd_dic:\n",
    "    with open('data/Hcd5TT/'+str(TT)+ H, 'wb') as fp:\n",
    "        pickle.dump(Hcd_dic[H], fp) "
   ]
  },
  {
   "attachments": {},
   "cell_type": "markdown",
   "metadata": {},
   "source": [
    "---\n",
    "### Reading $H_{CD}$ components"
   ]
  },
  {
   "cell_type": "code",
   "execution_count": 26,
   "metadata": {},
   "outputs": [
    {
     "ename": "FileNotFoundError",
     "evalue": "[Errno 2] No such file or directory: 'data/Hcd5TT/100.0H12'",
     "output_type": "error",
     "traceback": [
      "\u001b[0;31m---------------------------------------------------------------------------\u001b[0m",
      "\u001b[0;31mFileNotFoundError\u001b[0m                         Traceback (most recent call last)",
      "Cell \u001b[0;32mIn[26], line 3\u001b[0m\n\u001b[1;32m      1\u001b[0m Hcd_dic \u001b[39m=\u001b[39m { \u001b[39mf\u001b[39m\u001b[39m\"\u001b[39m\u001b[39mH\u001b[39m\u001b[39m{\u001b[39;00mlst[\u001b[39m0\u001b[39m]\u001b[39m}\u001b[39;00m\u001b[39m{\u001b[39;00mlst[\u001b[39m1\u001b[39m]\u001b[39m}\u001b[39;00m\u001b[39m\"\u001b[39m: [] \u001b[39mfor\u001b[39;00m lst \u001b[39min\u001b[39;00m nonZero_index_Hcd}\n\u001b[1;32m      2\u001b[0m \u001b[39mfor\u001b[39;00m H \u001b[39min\u001b[39;00m Hcd_dic:\n\u001b[0;32m----> 3\u001b[0m     \u001b[39mwith\u001b[39;00m \u001b[39mopen\u001b[39;49m (\u001b[39m'\u001b[39;49m\u001b[39mdata/Hcd5TT/\u001b[39;49m\u001b[39m'\u001b[39;49m\u001b[39m+\u001b[39;49m\u001b[39mstr\u001b[39;49m(TT)\u001b[39m+\u001b[39;49m H, \u001b[39m'\u001b[39;49m\u001b[39mrb\u001b[39;49m\u001b[39m'\u001b[39;49m) \u001b[39mas\u001b[39;00m fp:\n\u001b[1;32m      4\u001b[0m         Hcd_dic[H] \u001b[39m=\u001b[39m pickle\u001b[39m.\u001b[39mload(fp)\n",
      "File \u001b[0;32m~/anaconda3/lib/python3.10/site-packages/IPython/core/interactiveshell.py:282\u001b[0m, in \u001b[0;36m_modified_open\u001b[0;34m(file, *args, **kwargs)\u001b[0m\n\u001b[1;32m    275\u001b[0m \u001b[39mif\u001b[39;00m file \u001b[39min\u001b[39;00m {\u001b[39m0\u001b[39m, \u001b[39m1\u001b[39m, \u001b[39m2\u001b[39m}:\n\u001b[1;32m    276\u001b[0m     \u001b[39mraise\u001b[39;00m \u001b[39mValueError\u001b[39;00m(\n\u001b[1;32m    277\u001b[0m         \u001b[39mf\u001b[39m\u001b[39m\"\u001b[39m\u001b[39mIPython won\u001b[39m\u001b[39m'\u001b[39m\u001b[39mt let you open fd=\u001b[39m\u001b[39m{\u001b[39;00mfile\u001b[39m}\u001b[39;00m\u001b[39m by default \u001b[39m\u001b[39m\"\u001b[39m\n\u001b[1;32m    278\u001b[0m         \u001b[39m\"\u001b[39m\u001b[39mas it is likely to crash IPython. If you know what you are doing, \u001b[39m\u001b[39m\"\u001b[39m\n\u001b[1;32m    279\u001b[0m         \u001b[39m\"\u001b[39m\u001b[39myou can use builtins\u001b[39m\u001b[39m'\u001b[39m\u001b[39m open.\u001b[39m\u001b[39m\"\u001b[39m\n\u001b[1;32m    280\u001b[0m     )\n\u001b[0;32m--> 282\u001b[0m \u001b[39mreturn\u001b[39;00m io_open(file, \u001b[39m*\u001b[39;49margs, \u001b[39m*\u001b[39;49m\u001b[39m*\u001b[39;49mkwargs)\n",
      "\u001b[0;31mFileNotFoundError\u001b[0m: [Errno 2] No such file or directory: 'data/Hcd5TT/100.0H12'"
     ]
    }
   ],
   "source": [
    "Hcd_dic = { f\"H{lst[0]}{lst[1]}\": [] for lst in nonZero_index_Hcd}\n",
    "for H in Hcd_dic:\n",
    "    with open ('data/Hcd5TT/'+str(TT)+ H, 'rb') as fp:\n",
    "        Hcd_dic[H] = pickle.load(fp)"
   ]
  },
  {
   "attachments": {},
   "cell_type": "markdown",
   "metadata": {},
   "source": [
    "---"
   ]
  },
  {
   "cell_type": "code",
   "execution_count": 17,
   "metadata": {},
   "outputs": [
    {
     "ename": "NameError",
     "evalue": "name 'Hcd_dic' is not defined",
     "output_type": "error",
     "traceback": [
      "\u001b[0;31m---------------------------------------------------------------------------\u001b[0m",
      "\u001b[0;31mNameError\u001b[0m                                 Traceback (most recent call last)",
      "Cell \u001b[0;32mIn[17], line 2\u001b[0m\n\u001b[1;32m      1\u001b[0m Hcd_nonZeroPair \u001b[39m=\u001b[39m []\n\u001b[0;32m----> 2\u001b[0m \u001b[39mfor\u001b[39;00m i \u001b[39min\u001b[39;00m Hcd_dic:\n\u001b[1;32m      3\u001b[0m     \u001b[39mfor\u001b[39;00m j \u001b[39min\u001b[39;00m Hcd_dic:\n\u001b[1;32m      4\u001b[0m         \u001b[39mif\u001b[39;00m i \u001b[39m!=\u001b[39m j:\n\u001b[1;32m      5\u001b[0m             \u001b[39m# print((np.real(Hcd_dic[i][0]-Hcd_dic[j][0])==0))\u001b[39;00m\n",
      "\u001b[0;31mNameError\u001b[0m: name 'Hcd_dic' is not defined"
     ]
    }
   ],
   "source": [
    "Hcd_nonZeroPair = []\n",
    "for i in Hcd_dic:\n",
    "    for j in Hcd_dic:\n",
    "        if i != j:\n",
    "            # print((np.real(Hcd_dic[i][0]-Hcd_dic[j][0])==0))\n",
    "            if len(np.unique(np.subtract(Hcd_dic[i][0],Hcd_dic[j][0])))<=2:\n",
    "                if (i[1]<j[1]):                \n",
    "                                     \n",
    "                    x_vals = np.linspace(0.01, 5*.99*TT, 1000, dtype=complex)\n",
    "                    y_vals_1 = Hcd_dic[i][0]\n",
    "                    y_vals_2 = Hcd_dic[j][0]\n",
    "                    if np.any(y_vals_1):\n",
    "\n",
    "                        plt.plot(np.real(x_vals), np.real(y_vals_2))\n",
    "                        print(i,j) \n",
    "\n",
    "                        Hcd_nonZeroPair.append([i,j])\n",
    "                    # plt.plot(np.real(x_vals), np.real(y_vals_2))\n",
    "plt.show()"
   ]
  },
  {
   "attachments": {},
   "cell_type": "markdown",
   "metadata": {},
   "source": [
    "---\n",
    "### Interpolating"
   ]
  },
  {
   "cell_type": "code",
   "execution_count": null,
   "metadata": {},
   "outputs": [
    {
     "data": {
      "image/png": "[encoded data removed]",
      "text/plain": [
       "<Figure size 640x480 with 1 Axes>"
      ]
     },
     "metadata": {},
     "output_type": "display_data"
    }
   ],
   "source": [
    "S = []\n",
    "\n",
    "for i in Hcd_nonZeroPair:\n",
    "    S.append(\n",
    "        Cubic_Spline(t_list[0], t_list[-1], np.real(Hcd_dic[i[1]][0]))\n",
    "        )\n",
    "for s in S:\n",
    "    plt.plot(t_list, s(t_list), lw=1)\n",
    "plt.show()"
   ]
  },
  {
   "attachments": {},
   "cell_type": "markdown",
   "metadata": {},
   "source": [
    "---"
   ]
  },
  {
   "cell_type": "code",
   "execution_count": null,
   "metadata": {},
   "outputs": [],
   "source": [
    "HSD = [[qHi,Hi_coef_lin],[qHm,Hm_coef_lin],[qHf,Hf_coef_lin]]\n",
    "# HSD = []\n",
    "for i, s in zip(Hcd_nonZeroPair, S):\n",
    "    H = np.zeros((8,8))\n",
    "    H[int(i[0][1]),int(i[0][2])] +=1\n",
    "    H[int(i[1][1]),int(i[1][2])] +=1\n",
    "    HSD.append([1j*Qobj(H,dims = [[2, 2, 2], [2, 2, 2]]),s])"
   ]
  },
  {
   "cell_type": "code",
   "execution_count": null,
   "metadata": {},
   "outputs": [],
   "source": [
    "result = mesolve(HSD,rho0,t_list, args={'T': TT})\n",
    "rho_t = result.states\n",
    "erg_t_HCD = []\n",
    "for _t in range(len(t_list)):\n",
    "#----spectral decomposition of H0------------------------------------\n",
    "    ϵ, ϵ_v = qz.eigenstates(sort='low')\n",
    "#----spectral decomposition of rho(t)----------------------------------\n",
    "    rhored = rho_t[_t].ptrace(2)\n",
    "    r, r_v = rhored.eigenstates(sort='high')\n",
    "#----calculating ergotropy-------------------------------------------\n",
    "    vr_ve = np.array([[((r_v[0].dag()*ϵ_v[0]).norm())**2, ((r_v[1].dag()*ϵ_v[0]).norm())**2],\n",
    "                        [((r_v[0].dag()*ϵ_v[1]).norm())**2, ((r_v[1].dag()*ϵ_v[1]).norm())**2]])\n",
    "    erg_t_HCD.append(\n",
    "        np.sum(np.outer(r,ϵ)*(vr_ve- np.identity(2))/2)\n",
    "                )\n"
   ]
  },
  {
   "cell_type": "code",
   "execution_count": 12,
   "metadata": {},
   "outputs": [
    {
     "ename": "NameError",
     "evalue": "name 'erg_t_HCD' is not defined",
     "output_type": "error",
     "traceback": [
      "\u001b[0;31m---------------------------------------------------------------------------\u001b[0m",
      "\u001b[0;31mNameError\u001b[0m                                 Traceback (most recent call last)",
      "Cell \u001b[0;32mIn[12], line 1\u001b[0m\n\u001b[0;32m----> 1\u001b[0m plt\u001b[39m.\u001b[39mplot(t_list,np\u001b[39m.\u001b[39mreal(erg_t_HCD))\n\u001b[1;32m      2\u001b[0m plt\u001b[39m.\u001b[39mplot(t_list,erg_t)\n\u001b[1;32m      4\u001b[0m plt\u001b[39m.\u001b[39mshow()\n",
      "\u001b[0;31mNameError\u001b[0m: name 'erg_t_HCD' is not defined"
     ]
    }
   ],
   "source": [
    "plt.plot(t_list,np.real(erg_t_HCD))\n",
    "plt.plot(t_list,erg_t)\n",
    "\n",
    "plt.show()"
   ]
  },
  {
   "cell_type": "code",
   "execution_count": null,
   "metadata": {},
   "outputs": [],
   "source": []
  }
 ],
 "metadata": {
  "kernelspec": {
   "display_name": "base",
   "language": "python",
   "name": "python3"
  },
  "language_info": {
   "codemirror_mode": {
    "name": "ipython",
    "version": 3
   },
   "file_extension": ".py",
   "mimetype": "text/x-python",
   "name": "python",
   "nbconvert_exporter": "python",
   "pygments_lexer": "ipython3",
   "version": "3.10.9"
  },
  "orig_nbformat": 4,
  "vscode": {
   "interpreter": {
    "hash": "206d8b94a0291e7e73b9c33eed39ef53ec276f322e60a59942b2dbfac0cd31f9"
   }
  }
 },
 "nbformat": 4,
 "nbformat_minor": 2
}
